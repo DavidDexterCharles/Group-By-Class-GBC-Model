{
 "cells": [
  {
   "cell_type": "code",
   "execution_count": 1,
   "metadata": {},
   "outputs": [],
   "source": [
    "# Example JSON data\n",
    "example_json_data =  '''[\n",
    "    {\n",
    "      \"id\": 1,\n",
    "      \"title\": \"Document 1\",\n",
    "      \"content\": \"This is the content of Document 1. Document info is very important content\",\n",
    "      \"categories\": [\"Category A\", \"Category B\"]\n",
    "    },\n",
    "    {\n",
    "      \"id\": 2,\n",
    "      \"title\": \"Document 2\",\n",
    "      \"content\": \"Content of Document 2 goes here.\",\n",
    "      \"categories\": [\"Category B\", \"Category C\"]\n",
    "    },\n",
    "    {\n",
    "      \"id\": 3,\n",
    "      \"title\": \"Document 3\",\n",
    "      \"content\": \"Here is the content for Document 3.\",\n",
    "      \"categories\": [\"Category A\", \"Category C\"]\n",
    "    },\n",
    "    {\n",
    "      \"id\": 4,\n",
    "      \"title\": \"Document 4\",\n",
    "      \"content\": \"Content of Document 4.\",\n",
    "      \"categories\": [\"Category F\"]\n",
    "    }\n",
    "  ]\n",
    "'''\n",
    "example_json_data2 =  '''[\n",
    "    {\n",
    "      \"title\": \"Document 1\",\n",
    "      \"content\": \"This is the content of Document 1. Document info is very important content\",\n",
    "      \"categories\": [\"Category X\", \"Category Y\"]\n",
    "    },\n",
    "    {\n",
    "      \"title\": \"Document 2\",\n",
    "      \"content\": \"Content of Document 2 goes here.\",\n",
    "      \"categories\": [\"Category Z\", \"Category Zeta\",\"Category A\"]\n",
    "    }\n",
    "  ]\n",
    "'''"
   ]
  },
  {
   "cell_type": "code",
   "execution_count": 2,
   "metadata": {},
   "outputs": [
    {
     "name": "stdout",
     "output_type": "stream",
     "text": [
      "model100_d607a490-c7fe-4af5-a879-1260914d3b94\n",
      "training new model\n",
      "{'Category A': Counter({'is': 1.5, 'content': 1.5, 'document': 1.5, 'the': 1.0, 'this': 0.5, 'of': 0.5, 'info': 0.5, 'very': 0.5, 'important': 0.5, 'here': 0.5, 'for': 0.5, '': 0.5}), 'Category C': Counter({'content': 1.33, 'document': 1.33, 'here': 1.33, '': 1.33, 'of': 0.67, 'goes': 0.67, 'is': 0.67, 'the': 0.67, 'for': 0.67})}\n",
      "\n",
      "updating existing model\n",
      "['Category C', 'Category A']\n",
      "\n",
      "{'Category A': Counter({'content': 1.6, 'document': 1.6, 'is': 1.2, 'the': 0.8, 'of': 0.8, 'here': 0.8, '': 0.8, 'this': 0.4, 'info': 0.4, 'very': 0.4, 'important': 0.4, 'for': 0.4, 'goes': 0.4}), 'Category C': Counter({'content': 1.33, 'document': 1.33, 'here': 1.33, '': 1.33, 'of': 0.67, 'goes': 0.67, 'is': 0.67, 'the': 0.67, 'for': 0.67})}\n",
      "\n",
      "model_no_category_c1fb343a-3e4a-450d-b5aa-913e48939429\n",
      "training new model\n",
      "{'Category B': Counter({'content': 1.6, 'document': 1.6, 'is': 1.2, 'the': 0.8, 'of': 0.8, 'here': 0.8, '': 0.8, 'this': 0.4, 'info': 0.4, 'very': 0.4, 'important': 0.4, 'goes': 0.4, 'for': 0.4}), 'Category A': Counter({'content': 1.6, 'document': 1.6, 'is': 1.2, 'the': 0.8, 'of': 0.8, 'here': 0.8, '': 0.8, 'this': 0.4, 'info': 0.4, 'very': 0.4, 'important': 0.4, 'goes': 0.4, 'for': 0.4}), 'Category C': Counter({'content': 1.33, 'document': 1.33, 'here': 1.33, '': 1.33, 'of': 0.67, 'goes': 0.67, 'is': 0.67, 'the': 0.67, 'for': 0.67}), 'Category F': Counter({'content': 1.0, 'of': 1.0, 'document': 1.0, '': 1.0})}\n",
      "\n",
      "updating existing model\n",
      "['Category Zeta', 'Category Y', 'Category X', 'Category F', 'Category C', 'Category B', 'Category Z', 'Category A']\n",
      "\n",
      "{'Category B': Counter({'content': 1.9, 'document': 1.9, 'of': 1.32, 'here': 1.32, '': 1.32, 'goes': 1.02, 'is': 0.88, 'the': 0.59, 'this': 0.29, 'info': 0.29, 'very': 0.29, 'important': 0.29, 'for': 0.29}), 'Category A': Counter({'content': 1.9, 'document': 1.9, 'of': 1.32, 'here': 1.32, '': 1.32, 'goes': 1.02, 'is': 0.88, 'the': 0.59, 'this': 0.29, 'info': 0.29, 'very': 0.29, 'important': 0.29, 'for': 0.29}), 'Category C': Counter({'content': 1.33, 'document': 1.33, 'here': 1.33, '': 1.33, 'of': 0.67, 'goes': 0.67, 'is': 0.67, 'the': 0.67, 'for': 0.67}), 'Category F': Counter({'content': 1.0, 'of': 1.0, 'document': 1.0, '': 1.0}), 'Category X': Counter({'is': 1.33, 'content': 1.33, 'document': 1.33, 'this': 0.67, 'the': 0.67, 'of': 0.67, 'info': 0.67, 'very': 0.67, 'important': 0.67}), 'Category Y': Counter({'is': 1.33, 'content': 1.33, 'document': 1.33, 'this': 0.67, 'the': 0.67, 'of': 0.67, 'info': 0.67, 'very': 0.67, 'important': 0.67}), 'Category Zeta': Counter({'content': 1.0, 'of': 1.0, 'document': 1.0, 'goes': 1.0, 'here': 1.0, '': 1.0}), 'Category Z': Counter({'content': 1.0, 'of': 1.0, 'document': 1.0, 'goes': 1.0, 'here': 1.0, '': 1.0})}\n",
      "\n"
     ]
    }
   ],
   "source": [
    "from gbc import  GroupByClassModel\n",
    "model=GroupByClassModel(\"model100\",['Category A',\"Category C\"])\n",
    "model.print_model_name()\n",
    "model.train(example_json_data)\n",
    "model.train(example_json_data2)\n",
    "\n",
    "model2=GroupByClassModel(\"model_no_category\")\n",
    "model2.print_model_name()\n",
    "model2.train(example_json_data)\n",
    "model2.train(example_json_data2)\n",
    "model.get_categories()\n",
    "# a=5\n",
    "# print(example_json_data[2])"
   ]
  },
  {
   "cell_type": "code",
   "execution_count": null,
   "metadata": {},
   "outputs": [],
   "source": []
  },
  {
   "cell_type": "code",
   "execution_count": null,
   "metadata": {},
   "outputs": [],
   "source": []
  }
 ],
 "metadata": {
  "kernelspec": {
   "display_name": "Python 3 (ipykernel)",
   "language": "python",
   "name": "python3"
  },
  "language_info": {
   "codemirror_mode": {
    "name": "ipython",
    "version": 3
   },
   "file_extension": ".py",
   "mimetype": "text/x-python",
   "name": "python",
   "nbconvert_exporter": "python",
   "pygments_lexer": "ipython3",
   "version": "3.11.4"
  }
 },
 "nbformat": 4,
 "nbformat_minor": 4
}
