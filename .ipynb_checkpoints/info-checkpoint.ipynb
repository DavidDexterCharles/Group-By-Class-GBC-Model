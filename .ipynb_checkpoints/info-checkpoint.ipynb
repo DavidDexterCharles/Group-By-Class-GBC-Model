{
 "cells": [
  {
   "cell_type": "code",
   "execution_count": 1,
   "metadata": {},
   "outputs": [],
   "source": [
    "# Example JSON data\n",
    "example_json_data =  '''[\n",
    "    {\n",
    "        \"content\": \"A great game\",\n",
    "        \"categories\": [\n",
    "            \"sportclass\"\n",
    "        ]\n",
    "    },\n",
    "    {\n",
    "        \"content\": \"the election was over\",\n",
    "        \"categories\": [\n",
    "            \"notsport\",\n",
    "            \"politics\"\n",
    "        ]\n",
    "    },\n",
    "    {\n",
    "        \"content\": \"very clean match\",\n",
    "        \"categories\": [\n",
    "            \"sportclass\"\n",
    "        ]\n",
    "    },\n",
    "    {\n",
    "        \"content\": \"a clean but forgettable game\",\n",
    "        \"categories\": [\n",
    "            \"sportclass\"\n",
    "        ]\n",
    "    },\n",
    "    {\n",
    "        \"content\": \"it was a close election\",\n",
    "        \"categories\": [\n",
    "            \"politics\",\n",
    "            \"notsport\"\n",
    "        ]\n",
    "    },\n",
    "    {\n",
    "        \"content\": \"a very close game\",\n",
    "        \"categories\": [\n",
    "           \n",
    "        ]\n",
    "    }\n",
    "]\n",
    "'''\n",
    "\n",
    "example_json_data2 =  '''[\n",
    "    {\n",
    "      \"content\": \"our president somtimes like to play sports like football. He voted last election also\",\n",
    "      \"categories\": [\"sportclass\",\"politics\"]\n",
    "    }\n",
    "    ]\n",
    "    '''\n",
    "\n",
    "doc='''\n",
    "A very close game.\n",
    "\n",
    "'''\n",
    "\n",
    "\n",
    "example_json_data3 =  '''[\n",
    "    {\n",
    "        \"content\": \"the election\",\n",
    "        \"categories\": [\n",
    "            \"notsport\",\n",
    "            \"politics\"\n",
    "        ]\n",
    "    },\n",
    "        {\n",
    "        \"content\": \"close election\",\n",
    "        \"categories\": [\n",
    "            \"politics\",\n",
    "            \"notsport\"\n",
    "        ]\n",
    "    }\n",
    "    ]\n",
    "    '''\n",
    "example_json_data4 =  '''[\n",
    "    {\n",
    "        \"content\": \"the election was over\",\n",
    "        \"categories\": [\n",
    "            \"notsport\",\n",
    "            \"politics\"\n",
    "        ]\n",
    "    },\n",
    "        {\n",
    "        \"content\": \"it was a close election\",\n",
    "        \"categories\": [\n",
    "            \"politics\",\n",
    "            \"notsport\"\n",
    "        ]\n",
    "    }\n",
    "    ]\n",
    "'''"
   ]
  },
  {
   "cell_type": "code",
   "execution_count": 2,
   "metadata": {},
   "outputs": [
    {
     "name": "stdout",
     "output_type": "stream",
     "text": [
      "model3_82025f5c-f05e-4b6f-bd6d-ef2e8d7777b9\n",
      "training new model\n",
      "{'sportclass': Counter({'a': 2, 'game': 2, 'clean': 2, 'great': 1, 'very': 1, 'match': 1, 'but': 1, 'forgettable': 1}), 'politics': Counter({'election': 2, 'was': 2, 'the': 1, 'over': 1, 'it': 1, 'a': 1, 'close': 1}), 'notsport': Counter({'election': 2, 'was': 2, 'the': 1, 'over': 1, 'it': 1, 'a': 1, 'close': 1})}\n"
     ]
    },
    {
     "data": {
      "text/plain": [
       "['politics', 'notsport', 'sportclass']"
      ]
     },
     "execution_count": 2,
     "metadata": {},
     "output_type": "execute_result"
    }
   ],
   "source": [
    "from gbc import  GroupByClassModel\n",
    "# model=GroupByClassModel(\"model100\",['Category A',\"Category C\"])\n",
    "# model.print_model_name()\n",
    "# model.train(example_json_data)\n",
    "# model.train(example_json_data2)\n",
    "\n",
    "# model2=GroupByClassModel(\"model_no_category\")\n",
    "# model2.print_model_name()\n",
    "# model2.train(example_json_data)\n",
    "# model2.train(example_json_data2)\n",
    "# model2.get_categories()\n",
    "# model2.classify(doc)\n",
    "\n",
    "model3=GroupByClassModel(\"model3\")\n",
    "model3.print_model_name()\n",
    "model3.train(example_json_data)\n",
    "model3.train(example_json_data2)\n",
    "model3.get_categories()\n",
    "# model3.classify(doc)\n",
    "\n",
    "# a=5\n",
    "# print(example_json_data[2])"
   ]
  },
  {
   "cell_type": "code",
   "execution_count": null,
   "metadata": {},
   "outputs": [],
   "source": []
  },
  {
   "cell_type": "code",
   "execution_count": null,
   "metadata": {},
   "outputs": [],
   "source": []
  }
 ],
 "metadata": {
  "kernelspec": {
   "display_name": "Python 3 (ipykernel)",
   "language": "python",
   "name": "python3"
  },
  "language_info": {
   "codemirror_mode": {
    "name": "ipython",
    "version": 3
   },
   "file_extension": ".py",
   "mimetype": "text/x-python",
   "name": "python",
   "nbconvert_exporter": "python",
   "pygments_lexer": "ipython3",
   "version": "3.10.11"
  }
 },
 "nbformat": 4,
 "nbformat_minor": 4
}
