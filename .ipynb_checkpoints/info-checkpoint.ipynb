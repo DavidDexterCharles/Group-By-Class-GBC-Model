{
 "cells": [
  {
   "cell_type": "code",
   "execution_count": 1,
   "metadata": {},
   "outputs": [],
   "source": [
    "# Example JSON data\n",
    "example_json_data =  '''[\n",
    "    {\n",
    "      \"id\": 1,\n",
    "      \"title\": \"Document 1\",\n",
    "      \"content\": \"This is the content of Document 1. Document info is very important content\",\n",
    "      \"categories\": [\"Category A\", \"Category B\"]\n",
    "    },\n",
    "    {\n",
    "      \"id\": 2,\n",
    "      \"title\": \"Document 2\",\n",
    "      \"content\": \"Content of Document 2 goes here.\",\n",
    "      \"categories\": [\"Category B\", \"Category C\"]\n",
    "    },\n",
    "    {\n",
    "      \"id\": 3,\n",
    "      \"title\": \"Document 3\",\n",
    "      \"content\": \"Here is the content for Document 3.\",\n",
    "      \"categories\": [\"Category A\", \"Category C\"]\n",
    "    },\n",
    "    {\n",
    "      \"id\": 4,\n",
    "      \"title\": \"Document 4\",\n",
    "      \"content\": \"Content of Document 4.\",\n",
    "      \"categories\": [\"Category F\"]\n",
    "    }\n",
    "  ]\n",
    "'''"
   ]
  },
  {
   "cell_type": "code",
   "execution_count": 2,
   "metadata": {},
   "outputs": [
    {
     "name": "stdout",
     "output_type": "stream",
     "text": [
      "model100\n",
      "{'Category A': Counter({'is': 3, 'content': 3, 'document': 3, 'the': 2, 'this': 1, 'of': 1, 'info': 1, 'very': 1, 'important': 1, 'here': 1, 'for': 1, '': 1})}\n"
     ]
    }
   ],
   "source": [
    "from gbc import  GroupByClassModel\n",
    "model=GroupByClassModel(\"model100\",['Category A',\"Category C\"])\n",
    "model.print_model_name()\n",
    "model.train(example_json_data)\n",
    "#model.train(example_json_data)\n",
    "#model.get_categories()\n",
    "# a=5\n",
    "# print(example_json_data[2])"
   ]
  },
  {
   "cell_type": "code",
   "execution_count": null,
   "metadata": {},
   "outputs": [],
   "source": []
  },
  {
   "cell_type": "code",
   "execution_count": null,
   "metadata": {},
   "outputs": [],
   "source": []
  }
 ],
 "metadata": {
  "kernelspec": {
   "display_name": "Python 3 (ipykernel)",
   "language": "python",
   "name": "python3"
  },
  "language_info": {
   "codemirror_mode": {
    "name": "ipython",
    "version": 3
   },
   "file_extension": ".py",
   "mimetype": "text/x-python",
   "name": "python",
   "nbconvert_exporter": "python",
   "pygments_lexer": "ipython3",
   "version": "3.11.4"
  }
 },
 "nbformat": 4,
 "nbformat_minor": 4
}
